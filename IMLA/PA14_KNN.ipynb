{
 "cells": [
  {
   "cell_type": "code",
   "execution_count": 1,
   "metadata": {},
   "outputs": [],
   "source": [
    "import numpy as np\n",
    "import pandas as pd\n",
    "import sklearn\n",
    "from sklearn.neighbors import KNeighborsClassifier\n",
    "\n",
    "dataset=pd.read_csv(\"C:\\\\Users\\\\Arpit\\\\Desktop\\\\X Trimester\\\\IMLA\\\\Datasets\\\\knn.csv\")\n",
    "\n",
    "x=dataset.iloc[:,:-1].values\n",
    "y=dataset.iloc[:,2].values\n"
   ]
  },
  {
   "cell_type": "code",
   "execution_count": 2,
   "metadata": {},
   "outputs": [
    {
     "name": "stdout",
     "output_type": "stream",
     "text": [
      "['N' 'N' 'N' 'P' 'P' 'N']\n"
     ]
    },
    {
     "data": {
      "text/plain": [
       "array([[2, 2],\n",
       "       [2, 0]], dtype=int64)"
      ]
     },
     "execution_count": 2,
     "metadata": {},
     "output_type": "execute_result"
    }
   ],
   "source": [
    "classifier=KNeighborsClassifier(n_neighbors=3)\n",
    "classifier.fit(x,y)#training\n",
    "x_test=np.array([4,2])\n",
    "y_predict=classifier.predict(x)#testing\n",
    "print(y_predict)\n",
    "from sklearn.metrics import confusion_matrix\n",
    "confusion_matrix(y,y_predict)"
   ]
  },
  {
   "cell_type": "code",
   "execution_count": 4,
   "metadata": {},
   "outputs": [],
   "source": [
    "weather=['Sunny','Sunny','Overcast','Rainy','Rainy','Rainy','Overcast','Sunny','Sunny',\n",
    "'Rainy','Sunny','Overcast','Overcast','Rainy']\n",
    "# Second Feature\n",
    "temp=['Hot','Hot','Hot','Mild','Cool','Cool','Cool','Mild','Cool','Mild','Mild','Mild','Hot','Mild']\n",
    "\n",
    " \n",
    "\n",
    "# Label or target varible\n",
    "play=['No','No','Yes','Yes','Yes','No','Yes','No','Yes','Yes','Yes','Yes','Yes','No']"
   ]
  },
  {
   "cell_type": "code",
   "execution_count": 10,
   "metadata": {},
   "outputs": [
    {
     "name": "stdout",
     "output_type": "stream",
     "text": [
      "Weather= [2 2 0 1 1 1 0 2 2 1 2 0 0 1]\n",
      "Temperature= [1 1 1 2 0 0 0 2 0 2 2 2 1 2]\n",
      "Play= [0 0 1 1 1 0 1 0 1 1 1 1 1 0]\n"
     ]
    }
   ],
   "source": [
    "#import label encoder\n",
    "from sklearn import preprocessing\n",
    "#create label encoder\n",
    "le=preprocessing.LabelEncoder()\n",
    "#converting weather string labels to numbers\n",
    "weather_encoded=le.fit_transform(weather)\n",
    "print(\"Weather=\",weather_encoded)\n",
    "#converting temp string labels to numbers\n",
    "temp_encoded=le.fit_transform(temp)\n",
    "print(\"Temperature=\",temp_encoded)\n",
    "#converting play string labels to numbers\n",
    "label=le.fit_transform(play)\n",
    "print(\"Play=\",label)"
   ]
  },
  {
   "cell_type": "code",
   "execution_count": 11,
   "metadata": {},
   "outputs": [],
   "source": [
    "#combining weather and temp into single list of tuples\n",
    "features=list(zip(weather_encoded,temp_encoded))"
   ]
  },
  {
   "cell_type": "code",
   "execution_count": 12,
   "metadata": {},
   "outputs": [
    {
     "name": "stdout",
     "output_type": "stream",
     "text": [
      "[1]\n"
     ]
    }
   ],
   "source": [
    "from sklearn.neighbors import KNeighborsClassifier\n",
    "model=KNeighborsClassifier(n_neighbors=3)\n",
    "#Train model using training sets\n",
    "model.fit(features,label)\n",
    "\n",
    "#predict output\n",
    "predicted=model.predict([[0,2]])\n",
    "print(predicted)"
   ]
  },
  {
   "cell_type": "code",
   "execution_count": 7,
   "metadata": {},
   "outputs": [
    {
     "name": "stdout",
     "output_type": "stream",
     "text": [
      "[[ 5.   45.  ]\n",
      " [ 5.11 26.  ]\n",
      " [ 5.6  30.  ]\n",
      " [ 5.9  34.  ]\n",
      " [ 4.8  40.  ]\n",
      " [ 5.8  36.  ]\n",
      " [ 5.3  19.  ]\n",
      " [ 5.8  28.  ]\n",
      " [ 5.5  23.  ]\n",
      " [ 5.6  32.  ]]\n",
      "[77 47 55 59 72 60 40 60 45 58]\n"
     ]
    }
   ],
   "source": [
    "from sklearn.neighbors import KNeighborsRegressor\n",
    "dataset=pd.read_csv(\"C:\\\\Users\\\\Arpit\\\\Desktop\\\\X Trimester\\\\IMLA\\\\Datasets\\\\knn1.csv\")\n",
    "x=dataset.iloc[:,:-1].values\n",
    "print(x)\n",
    "y=dataset.iloc[:,2].values\n",
    "print(y)"
   ]
  },
  {
   "cell_type": "code",
   "execution_count": 8,
   "metadata": {},
   "outputs": [
    {
     "name": "stdout",
     "output_type": "stream",
     "text": [
      "[53.]\n"
     ]
    }
   ],
   "source": [
    "classifier=KNeighborsRegressor(n_neighbors=5)\n",
    "classifier.fit(x,y)#training\n",
    "x_test=np.array([5.50,26])\n",
    "y_predict=classifier.predict([x_test])#testing\n",
    "print(y_predict)"
   ]
  },
  {
   "cell_type": "code",
   "execution_count": 14,
   "metadata": {},
   "outputs": [
    {
     "data": {
      "text/plain": [
       "0.3333333333333333"
      ]
     },
     "execution_count": 14,
     "metadata": {},
     "output_type": "execute_result"
    }
   ],
   "source": [
    "from sklearn.metrics import accuracy_score\n",
    "accuracy_score(y,y_predict)"
   ]
  },
  {
   "cell_type": "code",
   "execution_count": null,
   "metadata": {},
   "outputs": [],
   "source": []
  }
 ],
 "metadata": {
  "kernelspec": {
   "display_name": "Python 3",
   "language": "python",
   "name": "python3"
  },
  "language_info": {
   "codemirror_mode": {
    "name": "ipython",
    "version": 3
   },
   "file_extension": ".py",
   "mimetype": "text/x-python",
   "name": "python",
   "nbconvert_exporter": "python",
   "pygments_lexer": "ipython3",
   "version": "3.7.6"
  }
 },
 "nbformat": 4,
 "nbformat_minor": 4
}
