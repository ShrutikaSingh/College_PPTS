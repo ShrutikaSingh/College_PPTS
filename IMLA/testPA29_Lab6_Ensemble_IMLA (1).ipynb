{
 "cells": [
  {
   "cell_type": "code",
   "execution_count": 4,
   "metadata": {},
   "outputs": [],
   "source": [
    "# Shrutika\n",
    "# PA29\n",
    "#IMLA LAB 6"
   ]
  },
  {
   "cell_type": "code",
   "execution_count": 2,
   "metadata": {},
   "outputs": [
    {
     "name": "stdout",
     "output_type": "stream",
     "text": [
      "Accurary: 0.8828125\n"
     ]
    }
   ],
   "source": [
    "import pandas as pd\n",
    "from sklearn import model_selection\n",
    "from sklearn.linear_model import LogisticRegression\n",
    "from sklearn.tree import DecisionTreeClassifier\n",
    "from sklearn.neighbors import KNeighborsClassifier\n",
    "from sklearn.metrics import accuracy_score\n",
    "from sklearn.metrics import cohen_kappa_score\n",
    "from sklearn.svm import SVC\n",
    "\n",
    "from sklearn.ensemble import VotingClassifier\n",
    "\n",
    "col_names= ['pregnant','glucose', 'bp', 'skin','insulin','bmi','pedigree', 'age', 'label']\n",
    "# load dataset\n",
    "pima = pd.read_csv('C:\\\\Users\\\\Shrutika\\\\Desktop\\\\Programs\\\\Python\\\\classes\\\\pima-indians-diabetes.csv', header=None, names=col_names)\n",
    "feature_cols= ['pregnant', 'insulin','bmi','glucose','bp','pedigree']\n",
    "X= pima[feature_cols] #features\n",
    "Y = pima.label #target variables\n",
    "\n",
    "estimators = []\n",
    "model1 = KNeighborsClassifier(n_neighbors=3)\n",
    "estimators.append(('KNN',model1))\n",
    "\n",
    "model2 = DecisionTreeClassifier()\n",
    "estimators.append(('cart',model2))\n",
    "\n",
    "model3 = SVC()\n",
    "estimators.append(('svm',model3))\n",
    "\n",
    "ensemble =VotingClassifier(estimators) #bagging ensemble\n",
    "ec1f1 = ensemble.fit(X,Y)\n",
    "y1 = ec1f1.predict(X)\n",
    "print(\"Accurary:\",accuracy_score(Y, y1))\n"
   ]
  },
  {
   "cell_type": "code",
   "execution_count": 3,
   "metadata": {},
   "outputs": [],
   "source": [
    "(DT classifer is bydefault)"
   ]
  },
  {
   "cell_type": "code",
   "execution_count": 4,
   "metadata": {},
   "outputs": [],
   "source": [
    "#load libraries\n",
    "from sklearn.ensemble import AdaBoostClassifier\n",
    "from sklearn import datasets\n",
    "from sklearn.model_selection import train_test_split\n",
    "from sklearn import metrics"
   ]
  },
  {
   "cell_type": "code",
   "execution_count": 5,
   "metadata": {},
   "outputs": [],
   "source": [
    "# Load data\n",
    "iris = datasets.load_iris()\n",
    "X = iris.data   #feature\n",
    "y = iris.target #class labels"
   ]
  },
  {
   "cell_type": "code",
   "execution_count": 6,
   "metadata": {},
   "outputs": [],
   "source": [
    "# Create adaboost classifer object\n",
    "abc = AdaBoostClassifier(n_estimators=50)\n",
    "# Train Adaboost Classifer\n",
    "model = abc.fit(X,y)\n",
    "#Predict the response for test dataset\n",
    "y_pred = model.predict(X)"
   ]
  },
  {
   "cell_type": "code",
   "execution_count": 7,
   "metadata": {
    "scrolled": true
   },
   "outputs": [
    {
     "name": "stdout",
     "output_type": "stream",
     "text": [
      "Accurary: 0.96\n"
     ]
    }
   ],
   "source": [
    "#Model Accuracy\n",
    "print(\"Accurary:\",metrics.accuracy_score(y, y_pred))"
   ]
  },
  {
   "cell_type": "code",
   "execution_count": 8,
   "metadata": {},
   "outputs": [],
   "source": [
    "#ADABOOST SVC Classifier"
   ]
  },
  {
   "cell_type": "code",
   "execution_count": 9,
   "metadata": {},
   "outputs": [
    {
     "name": "stdout",
     "output_type": "stream",
     "text": [
      "Accuracy: 0.9866666666666667\n"
     ]
    }
   ],
   "source": [
    "# Load the libarries Libraries\n",
    "\n",
    "from sklearn.ensemble import AdaBoostClassifier\n",
    "#Import Support Vector Clessifier\n",
    "from sklearn.svm import SVC\n",
    "#mport scikit-learn metrics modute for accuracy calculation\n",
    "from sklearn import metrics\n",
    "svc=SVC(probability=True,kernel='linear')\n",
    "# Create adaboost classifer object\n",
    "\n",
    "abc = AdaBoostClassifier(n_estimators=50, base_estimator=svc)\n",
    "# Train Adaboost Classtfer\n",
    "model = abc.fit(X,y)\n",
    "#Predict the response for test dataset\n",
    "y_pred = model.predict(X)\n",
    "# Model Accuracy\n",
    "print(\"Accuracy:\",metrics. accuracy_score(y,y_pred))"
   ]
  }
 ],
 "metadata": {
  "kernelspec": {
   "display_name": "Python 3",
   "language": "python",
   "name": "python3"
  },
  "language_info": {
   "codemirror_mode": {
    "name": "ipython",
    "version": 3
   },
   "file_extension": ".py",
   "mimetype": "text/x-python",
   "name": "python",
   "nbconvert_exporter": "python",
   "pygments_lexer": "ipython3",
   "version": "3.7.8"
  }
 },
 "nbformat": 4,
 "nbformat_minor": 4
}
