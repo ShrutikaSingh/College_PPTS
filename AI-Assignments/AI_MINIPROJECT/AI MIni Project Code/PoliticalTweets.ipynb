{
 "cells": [
  {
   "cell_type": "code",
   "execution_count": null,
   "metadata": {
    "_cell_guid": "b1076dfc-b9ad-4769-8c92-a6c4dae69d19",
    "_uuid": "8f2839f25d086af736a60e9eeb907d3b93b6e0e5"
   },
   "outputs": [],
   "source": [
    "import numpy as np # linear algebra\n",
    "import pandas as pd # data processing"
   ]
  },
  {
   "cell_type": "code",
   "execution_count": null,
   "metadata": {
    "_cell_guid": "79c7e3d0-c299-4dcb-8224-4455121ee9b0",
    "_uuid": "d629ff2d2480ee46fbb7e2d37f6b5fab8052498a"
   },
   "outputs": [],
   "source": [
    "data = pd.read_csv(\"ExtractedTweets.csv\")\n",
    "data.head()"
   ]
  },
  {
   "cell_type": "code",
   "execution_count": null,
   "metadata": {
    "_uuid": "3c71db613b04de2ca02fc302facf36b50fa3ef2a"
   },
   "outputs": [],
   "source": [
    "data['numClass'] = data['Party'].map({'Democrat':0, 'Republican':1})\n",
    "data.tail()"
   ]
  },
  {
   "cell_type": "code",
   "execution_count": null,
   "metadata": {
    "_uuid": "5077517af8555cf5c9c3fbcfad4c5ecbe1ec3290"
   },
   "outputs": [],
   "source": [
    "from nltk.corpus import stopwords\n",
    "from sklearn.feature_extraction.text import TfidfVectorizer\n",
    "\n",
    "stopset = set(stopwords.words(\"english\"))\n",
    "print(stopset)"
   ]
  },
  {
   "cell_type": "code",
   "execution_count": null,
   "metadata": {
    "_uuid": "0c340dcf66887f2c96c4f4a571aa22b31f6b390c"
   },
   "outputs": [],
   "source": [
    "vectorizer = TfidfVectorizer(stop_words = stopset, binary = True)\n",
    "\n",
    "X = vectorizer.fit_transform(data.Tweet)\n",
    "y = data.numClass"
   ]
  },
  {
   "cell_type": "code",
   "execution_count": null,
   "metadata": {
    "_uuid": "a3fe26a3a808a88c37c6d07c5275cd4126b52d1c"
   },
   "outputs": [],
   "source": [
    "from sklearn.model_selection import train_test_split\n",
    "X_train, X_test, Y_train, Y_test = train_test_split(X,y,test_size = 0.3, train_size=0.7, random_state = 42)"
   ]
  },
  {
   "cell_type": "code",
   "execution_count": null,
   "metadata": {
    "_uuid": "2731dcaaeddf01ec84eec43a81c94380acd5681b"
   },
   "outputs": [],
   "source": [
    "#Import models from sklearn\n",
    "from sklearn.naive_bayes import MultinomialNB\n",
    "from sklearn.tree import DecisionTreeClassifier\n",
    "from sklearn.neighbors import KNeighborsClassifier\n",
    "from sklearn.ensemble import AdaBoostClassifier\n",
    "from sklearn.ensemble import RandomForestClassifier\n",
    "\n",
    "from sklearn.metrics import f1_score\n",
    "\n",
    "classifiers = ['Multi-NB', 'DecisionTrees', '1-NN', '3-NN', 'AdaBoost', 'RandomForest']"
   ]
  },
  {
   "cell_type": "code",
   "execution_count": null,
   "metadata": {
    "_uuid": "1955c79acc878d2c9b281c88175717a36e3afe24"
   },
   "outputs": [],
   "source": [
    "#Initialize the models\n",
    "A = MultinomialNB(alpha = 0.1, fit_prior = True)\n",
    "B = DecisionTreeClassifier(random_state = 42)\n",
    "C = KNeighborsClassifier(n_neighbors = 1)\n",
    "D = KNeighborsClassifier(n_neighbors = 3)\n",
    "E = AdaBoostClassifier(n_estimators = 100)\n",
    "F = RandomForestClassifier(n_estimators = 10, max_depth = None, min_samples_split = 2, random_state = 37)\n",
    "\n",
    "clfs = [A,B,C,D,E,F]"
   ]
  },
  {
   "cell_type": "code",
   "execution_count": null,
   "metadata": {
    "_uuid": "59673d674b2ad5c3b2ac79fa5291b24a2546e0c7"
   },
   "outputs": [],
   "source": [
    "#Classifier function\n",
    "def classifierFunction(clf, X, y):\n",
    "    clf.fit(X,y)\n",
    "    \n",
    "#Predict function\n",
    "def predictFunction(clf, X):\n",
    "    return clf.predict(X)"
   ]
  },
  {
   "cell_type": "code",
   "execution_count": null,
   "metadata": {
    "_uuid": "52dad7f2f3c5807d279680c6688f18f36c881c28",
    "scrolled": true
   },
   "outputs": [],
   "source": [
    "predictScores = []\n",
    "\n",
    "for i in range(len(clfs)):\n",
    "    classifierFunction(clfs[i], X_train, Y_train)\n",
    "    Y_pred = predictFunction(clfs[i], X_test)\n",
    "    score = f1_score(Y_test, Y_pred)\n",
    "    predictScores.append(score)\n",
    "    print(score)    "
   ]
  },
  {
   "cell_type": "code",
   "execution_count": null,
   "metadata": {
    "_uuid": "837effedfb6fb54e6368948bfa3b7b919e8e22f6"
   },
   "outputs": [],
   "source": [
    "# ploating data for F1 Score\n",
    "import matplotlib.pyplot as plt\n",
    "\n",
    "Y_pos = np.arange(len(classifiers))\n",
    "Y_val = [ x for x in predictScores]\n",
    "plt.bar(Y_pos,Y_val, align='center', alpha=0.7)\n",
    "plt.xticks(Y_pos, classifiers)\n",
    "plt.ylabel('Accuracy Score')\n",
    "plt.title('Accuracy of Models')\n",
    "plt.show()"
   ]
  },
  {
   "cell_type": "markdown",
   "metadata": {},
   "source": [
    "![](result.png)"
   ]
  },
  {
   "cell_type": "code",
   "execution_count": null,
   "metadata": {},
   "outputs": [],
   "source": []
  }
 ],
 "metadata": {
  "kernelspec": {
   "display_name": "Python 3",
   "language": "python",
   "name": "python3"
  },
  "language_info": {
   "codemirror_mode": {
    "name": "ipython",
    "version": 3
   },
   "file_extension": ".py",
   "mimetype": "text/x-python",
   "name": "python",
   "nbconvert_exporter": "python",
   "pygments_lexer": "ipython3",
   "version": "3.8.3"
  }
 },
 "nbformat": 4,
 "nbformat_minor": 1
}
