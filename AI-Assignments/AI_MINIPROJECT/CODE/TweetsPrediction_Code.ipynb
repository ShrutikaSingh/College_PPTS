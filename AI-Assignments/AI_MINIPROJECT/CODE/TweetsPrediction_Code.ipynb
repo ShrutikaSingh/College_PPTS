{
 "cells": [
  {
   "cell_type": "markdown",
   "metadata": {},
   "source": [
    "## **REPUBLICAN AND DEMOCRAT TWEET ANALYSIS**"
   ]
  },
  {
   "cell_type": "markdown",
   "metadata": {},
   "source": [
    "### Republican Party \n",
    "\n",
    "The Republican Party, also referred to as the GOP (Grand Old Party), is one of the two major political parties in the United States; the other is its historic rival, the Democratic Party."
   ]
  },
  {
   "cell_type": "markdown",
   "metadata": {},
   "source": [
    "### Democratic Party\n",
    "\n",
    "The Democratic Party is one of the two major contemporary political parties in the United States, along with its rival, the Republican Party."
   ]
  },
  {
   "cell_type": "code",
   "execution_count": 1,
   "metadata": {
    "_kg_hide-input": true,
    "_kg_hide-output": true
   },
   "outputs": [
    {
     "data": {
      "text/html": [
       "        <script type=\"text/javascript\">\n",
       "        window.PlotlyConfig = {MathJaxConfig: 'local'};\n",
       "        if (window.MathJax) {MathJax.Hub.Config({SVG: {font: \"STIX-Web\"}});}\n",
       "        if (typeof require !== 'undefined') {\n",
       "        require.undef(\"plotly\");\n",
       "        requirejs.config({\n",
       "            paths: {\n",
       "                'plotly': ['https://cdn.plot.ly/plotly-latest.min']\n",
       "            }\n",
       "        });\n",
       "        require(['plotly'], function(Plotly) {\n",
       "            window._Plotly = Plotly;\n",
       "        });\n",
       "        }\n",
       "        </script>\n",
       "        "
      ]
     },
     "metadata": {},
     "output_type": "display_data"
    },
    {
     "name": "stdout",
     "output_type": "stream",
     "text": [
      "['ExtractedTweets.csv', 'TwitterHandles.csv']\n"
     ]
    }
   ],
   "source": [
    "import numpy as np\n",
    "import pandas as pd\n",
    "import plotly.plotly as py\n",
    "from plotly.offline import init_notebook_mode,iplot\n",
    "init_notebook_mode(connected=True)\n",
    "import plotly.graph_objs as go\n",
    "from plotly import tools\n",
    "import warnings\n",
    "warnings.filterwarnings(\"ignore\")\n",
    "import os\n",
    "print(os.listdir(\"../input\"))"
   ]
  },
  {
   "cell_type": "markdown",
   "metadata": {},
   "source": [
    "In this kernel, I examined the tweets of people with democratic and republican political opinion.\n",
    "\n",
    "### CONTENTS:\n",
    "\n",
    "1- [Data Cleaning](#1)\n",
    "\n",
    "2- [Frequency of Usage of Words by Parties](#2)\n",
    "\n",
    "3- [Dispersion Plots](#3)\n",
    "\n",
    "4- [Sentiment Analysis](#4)"
   ]
  },
  {
   "cell_type": "code",
   "execution_count": 2,
   "metadata": {
    "_cell_guid": "79c7e3d0-c299-4dcb-8224-4455121ee9b0",
    "_kg_hide-input": true,
    "_uuid": "d629ff2d2480ee46fbb7e2d37f6b5fab8052498a"
   },
   "outputs": [],
   "source": [
    "data=pd.read_csv(\"../input/ExtractedTweets.csv\")"
   ]
  },
  {
   "cell_type": "markdown",
   "metadata": {},
   "source": [
    "The first 10 entries of our dataset are shown in the table."
   ]
  },
  {
   "cell_type": "code",
   "execution_count": 3,
   "metadata": {},
   "outputs": [
    {
     "data": {
      "text/html": [
       "<div>\n",
       "<style scoped>\n",
       "    .dataframe tbody tr th:only-of-type {\n",
       "        vertical-align: middle;\n",
       "    }\n",
       "\n",
       "    .dataframe tbody tr th {\n",
       "        vertical-align: top;\n",
       "    }\n",
       "\n",
       "    .dataframe thead th {\n",
       "        text-align: right;\n",
       "    }\n",
       "</style>\n",
       "<table border=\"1\" class=\"dataframe\">\n",
       "  <thead>\n",
       "    <tr style=\"text-align: right;\">\n",
       "      <th></th>\n",
       "      <th>Party</th>\n",
       "      <th>Handle</th>\n",
       "      <th>Tweet</th>\n",
       "    </tr>\n",
       "  </thead>\n",
       "  <tbody>\n",
       "    <tr>\n",
       "      <th>0</th>\n",
       "      <td>Democrat</td>\n",
       "      <td>RepDarrenSoto</td>\n",
       "      <td>Today, Senate Dems vote to #SaveTheInternet. P...</td>\n",
       "    </tr>\n",
       "    <tr>\n",
       "      <th>1</th>\n",
       "      <td>Democrat</td>\n",
       "      <td>RepDarrenSoto</td>\n",
       "      <td>RT @WinterHavenSun: Winter Haven resident / Al...</td>\n",
       "    </tr>\n",
       "    <tr>\n",
       "      <th>2</th>\n",
       "      <td>Democrat</td>\n",
       "      <td>RepDarrenSoto</td>\n",
       "      <td>RT @NBCLatino: .@RepDarrenSoto noted that Hurr...</td>\n",
       "    </tr>\n",
       "    <tr>\n",
       "      <th>3</th>\n",
       "      <td>Democrat</td>\n",
       "      <td>RepDarrenSoto</td>\n",
       "      <td>RT @NALCABPolicy: Meeting with @RepDarrenSoto ...</td>\n",
       "    </tr>\n",
       "    <tr>\n",
       "      <th>4</th>\n",
       "      <td>Democrat</td>\n",
       "      <td>RepDarrenSoto</td>\n",
       "      <td>RT @Vegalteno: Hurricane season starts on June...</td>\n",
       "    </tr>\n",
       "    <tr>\n",
       "      <th>5</th>\n",
       "      <td>Democrat</td>\n",
       "      <td>RepDarrenSoto</td>\n",
       "      <td>RT @EmgageActionFL: Thank you to all who came ...</td>\n",
       "    </tr>\n",
       "    <tr>\n",
       "      <th>6</th>\n",
       "      <td>Democrat</td>\n",
       "      <td>RepDarrenSoto</td>\n",
       "      <td>Hurricane Maria left approx $90 billion in dam...</td>\n",
       "    </tr>\n",
       "    <tr>\n",
       "      <th>7</th>\n",
       "      <td>Democrat</td>\n",
       "      <td>RepDarrenSoto</td>\n",
       "      <td>RT @Tharryry: I am delighted that @RepDarrenSo...</td>\n",
       "    </tr>\n",
       "    <tr>\n",
       "      <th>8</th>\n",
       "      <td>Democrat</td>\n",
       "      <td>RepDarrenSoto</td>\n",
       "      <td>RT @HispanicCaucus: Trump's anti-immigrant pol...</td>\n",
       "    </tr>\n",
       "    <tr>\n",
       "      <th>9</th>\n",
       "      <td>Democrat</td>\n",
       "      <td>RepDarrenSoto</td>\n",
       "      <td>RT @RepStephMurphy: Great joining @WeAreUnidos...</td>\n",
       "    </tr>\n",
       "  </tbody>\n",
       "</table>\n",
       "</div>"
      ],
      "text/plain": [
       "      Party                        ...                                                                      Tweet\n",
       "0  Democrat                        ...                          Today, Senate Dems vote to #SaveTheInternet. P...\n",
       "1  Democrat                        ...                          RT @WinterHavenSun: Winter Haven resident / Al...\n",
       "2  Democrat                        ...                          RT @NBCLatino: .@RepDarrenSoto noted that Hurr...\n",
       "3  Democrat                        ...                          RT @NALCABPolicy: Meeting with @RepDarrenSoto ...\n",
       "4  Democrat                        ...                          RT @Vegalteno: Hurricane season starts on June...\n",
       "5  Democrat                        ...                          RT @EmgageActionFL: Thank you to all who came ...\n",
       "6  Democrat                        ...                          Hurricane Maria left approx $90 billion in dam...\n",
       "7  Democrat                        ...                          RT @Tharryry: I am delighted that @RepDarrenSo...\n",
       "8  Democrat                        ...                          RT @HispanicCaucus: Trump's anti-immigrant pol...\n",
       "9  Democrat                        ...                          RT @RepStephMurphy: Great joining @WeAreUnidos...\n",
       "\n",
       "[10 rows x 3 columns]"
      ]
     },
     "execution_count": 3,
     "metadata": {},
     "output_type": "execute_result"
    }
   ],
   "source": [
    "data.head(10)"
   ]
  },
  {
   "cell_type": "markdown",
   "metadata": {},
   "source": [
    "And the first tweet is as follows."
   ]
  },
  {
   "cell_type": "code",
   "execution_count": 4,
   "metadata": {},
   "outputs": [
    {
     "data": {
      "text/plain": [
       "'Today, Senate Dems vote to #SaveTheInternet. Proud to support similar #NetNeutrality legislation here in the House… https://t.co/n3tggDLU1L'"
      ]
     },
     "execution_count": 4,
     "metadata": {},
     "output_type": "execute_result"
    }
   ],
   "source": [
    "data.Tweet[0]"
   ]
  },
  {
   "cell_type": "markdown",
   "metadata": {},
   "source": [
    "<a id=\"1\"></a> <br>\n",
    "## 1- DATA CLEANING"
   ]
  },
  {
   "cell_type": "markdown",
   "metadata": {},
   "source": [
    "Before starting the analysis, we should remove like @, rt, html, # etc. objects. "
   ]
  },
  {
   "cell_type": "code",
   "execution_count": 5,
   "metadata": {},
   "outputs": [],
   "source": [
    "import re\n",
    "import nltk\n",
    "from nltk.corpus import stopwords\n",
    "import nltk as nlp\n",
    "stopwords = stopwords.words('english')\n",
    "#add some unnecessary word to stopwords list\n",
    "stopwords.append(\"rt\")\n",
    "stopwords.append(\"u\")\n",
    "stopwords.append(\"amp\")\n",
    "stopwords.append(\"w\")\n",
    "stopwords.append(\"th\")"
   ]
  },
  {
   "cell_type": "code",
   "execution_count": 6,
   "metadata": {},
   "outputs": [],
   "source": [
    "#we created 2 different class as democrat and republican\n",
    "democrat=data[data.Party==\"Democrat\"]\n",
    "republican=data[data.Party==\"Republican\"]"
   ]
  },
  {
   "cell_type": "code",
   "execution_count": 7,
   "metadata": {},
   "outputs": [],
   "source": [
    "#Cleaning democrat party tweets \n",
    "democrat_list=[]\n",
    "for d in democrat.Tweet:\n",
    "    d=re.sub(r'http\\S+', '', d) #remove links\n",
    "    d=re.sub(\"[^a-zA-Z]\", \" \", d) #remove all characters except letters\n",
    "    d=d.lower() #convert all words to lowercase\n",
    "    d=nltk.word_tokenize(d) #split sentences into word\n",
    "    d=[word for word in d if not word in set(stopwords)] #add to stopwords list if unnecessary words.\n",
    "    lemma=nlp.WordNetLemmatizer() \n",
    "    d=[lemma.lemmatize(word) for word in d] #identify the correct form of the word in the dictionary\n",
    "    d=\" \".join(d)\n",
    "    democrat_list.append(d) #append words to list"
   ]
  },
  {
   "cell_type": "code",
   "execution_count": 8,
   "metadata": {},
   "outputs": [],
   "source": [
    "#same process as before\n",
    "republican_list=[]\n",
    "for r in republican.Tweet:\n",
    "    r=re.sub(r'http\\S+', '', r)\n",
    "    r=re.sub(\"[^a-zA-Z]\", \" \", r)\n",
    "    r=r.lower()\n",
    "    r=nltk.word_tokenize(r)\n",
    "    r=[word for word in r if not word in set(stopwords)]\n",
    "    lemma=nlp.WordNetLemmatizer()\n",
    "    r=[lemma.lemmatize(word) for word in r]\n",
    "    r=\" \".join(r)\n",
    "    republican_list.append(r)"
   ]
  },
  {
   "cell_type": "markdown",
   "metadata": {},
   "source": [
    "Now our lists are as follows"
   ]
  },
  {
   "cell_type": "code",
   "execution_count": 9,
   "metadata": {},
   "outputs": [
    {
     "data": {
      "text/plain": [
       "['today senate dems vote savetheinternet proud support similar netneutrality legislation house',\n",
       " 'winterhavensun winter resident alta vista teacher one several recognized repdarrensoto national teacher apprecia',\n",
       " 'nbclatino repdarrensoto noted hurricane maria left approximately billion damage congress allocated',\n",
       " 'nalcabpolicy meeting repdarrensoto thanks taking time meet latinoleader ed marucci guzman nalcabpolicy',\n",
       " 'vegalteno hurricane season start june st puerto rico readiness well pwr puertorico repdarrensoto espaillatny']"
      ]
     },
     "execution_count": 9,
     "metadata": {},
     "output_type": "execute_result"
    }
   ],
   "source": [
    "#first 5 tweets in the list\n",
    "democrat_list[0:5]"
   ]
  },
  {
   "cell_type": "code",
   "execution_count": 10,
   "metadata": {},
   "outputs": [
    {
     "data": {
      "text/plain": [
       "['wastefulwednesday today introduced bill would eliminate global climate change initiative gc',\n",
       " 'today honored heroic men woman law enforcement lost life line duty nati',\n",
       " 'congressmanraja last week repralphnorman hosted briefing economic benefit solar energy production',\n",
       " 'tegacaypd chief parker thankful receive recognition repralphnorman delivered mayor davidloneal national police',\n",
       " 'visited sc highway patrol bring cupcake thank service honor']"
      ]
     },
     "execution_count": 10,
     "metadata": {},
     "output_type": "execute_result"
    }
   ],
   "source": [
    "#first 5 tweets in the list\n",
    "republican_list[0:5]"
   ]
  },
  {
   "cell_type": "markdown",
   "metadata": {},
   "source": [
    "However I would like to review these tweets word by word. So I split sentences into words and remove unnecessary punctuation characters."
   ]
  },
  {
   "cell_type": "code",
   "execution_count": 11,
   "metadata": {},
   "outputs": [],
   "source": [
    "\n",
    "democrat_tweets=str(democrat_list).split()\n",
    "republican_tweets=str(republican_list).split()\n",
    "democrat_tweets=[word.replace(\"'\",\"\") for word in democrat_tweets ]\n",
    "democrat_tweets=[word.replace(\"[\", \"\") for word in democrat_tweets ]\n",
    "democrat_tweets=[word.replace(\"]\",\"\") for word in democrat_tweets ]\n",
    "democrat_tweets=[word.replace(\",\", \"\") for word in democrat_tweets ]\n",
    "\n",
    "republican_tweets=[word.replace(\"'\",\"\") for word in republican_tweets ]\n",
    "republican_tweets=[word.replace(\"[\", \"\") for word in republican_tweets ]\n",
    "republican_tweets=[word.replace(\"]\",\"\") for word in republican_tweets ]\n",
    "republican_tweets=[word.replace(\",\", \"\") for word in republican_tweets ]"
   ]
  },
  {
   "cell_type": "markdown",
   "metadata": {},
   "source": [
    "Now lets check length of two list."
   ]
  },
  {
   "cell_type": "code",
   "execution_count": 12,
   "metadata": {},
   "outputs": [
    {
     "name": "stdout",
     "output_type": "stream",
     "text": [
      "Democrat tweets word length: 443138\n",
      "Republican tweets word length: 457293\n"
     ]
    }
   ],
   "source": [
    "print(\"Democrat tweets word length:\",len(democrat_tweets))\n",
    "print(\"Republican tweets word length:\",len(republican_tweets))"
   ]
  },
  {
   "cell_type": "markdown",
   "metadata": {},
   "source": [
    "There are 443138 words in democrat tweets and 457293 words in republican tweets."
   ]
  },
  {
   "cell_type": "markdown",
   "metadata": {},
   "source": [
    "<a id=\"2\"></a> <br>\n",
    "## 2- Frequency of Usage of Words by Parties"
   ]
  },
  {
   "cell_type": "code",
   "execution_count": 13,
   "metadata": {},
   "outputs": [],
   "source": [
    "#FreqDist records the number of times each words are used. \n",
    "from nltk.probability import FreqDist\n",
    "fdist_democrat = FreqDist(democrat_tweets)\n",
    "fdist_republican=FreqDist(republican_tweets)"
   ]
  },
  {
   "cell_type": "code",
   "execution_count": 14,
   "metadata": {},
   "outputs": [
    {
     "data": {
      "text/plain": [
       "FreqDist({'today': 3850, 'trump': 2502, 'american': 2053, 'year': 1835, 'thank': 1777, 'family': 1694, 'great': 1676, 'student': 1660, 'day': 1571, 'congress': 1518, ...})"
      ]
     },
     "execution_count": 14,
     "metadata": {},
     "output_type": "execute_result"
    }
   ],
   "source": [
    "fdist_democrat"
   ]
  },
  {
   "cell_type": "markdown",
   "metadata": {},
   "source": [
    "For example, the word **\"today\"** (3850 times) is used most in the tweets sent by democrat people. Secondly **\"trump\"**(2502) and thirdly **\"american\"**. "
   ]
  },
  {
   "cell_type": "code",
   "execution_count": 15,
   "metadata": {},
   "outputs": [
    {
     "data": {
      "text/plain": [
       "FreqDist({'today': 4883, 'tax': 2885, 'great': 2876, 'house': 2382, 'bill': 2379, 'american': 2241, 'thank': 2118, 'year': 1961, 'day': 1887, 'act': 1820, ...})"
      ]
     },
     "execution_count": 15,
     "metadata": {},
     "output_type": "execute_result"
    }
   ],
   "source": [
    "fdist_republican"
   ]
  },
  {
   "cell_type": "markdown",
   "metadata": {},
   "source": [
    "If we look at the tweets of people who have a republican opinion, the word **\"today\"** (4883 times) is in the first place again. **\"tax\"** is in the second place and **\"great\"** in the third place."
   ]
  },
  {
   "cell_type": "markdown",
   "metadata": {},
   "source": [
    "In the following graphs the 30 most used words were shown according to political opinion."
   ]
  },
  {
   "cell_type": "code",
   "execution_count": 16,
   "metadata": {},
   "outputs": [
    {
     "data": {
      "image/png": "[encoded data removed]",
      "text/plain": [
       "<Figure size 720x360 with 1 Axes>"
      ]
     },
     "metadata": {
      "needs_background": "light"
     },
     "output_type": "display_data"
    },
    {
     "data": {
      "image/png": "[encoded data removed]",
      "text/plain": [
       "<Figure size 720x360 with 1 Axes>"
      ]
     },
     "metadata": {
      "needs_background": "light"
     },
     "output_type": "display_data"
    }
   ],
   "source": [
    "import matplotlib.pyplot as plt\n",
    "plt.subplots(figsize=(10,5))\n",
    "fdist_democrat.plot(30,title=\"Democrat Tweets\")\n",
    "plt.subplots(figsize=(10,5))\n",
    "fdist_republican.plot(30,title=\"Republican Tweets\")"
   ]
  },
  {
   "cell_type": "markdown",
   "metadata": {},
   "source": [
    "In order to better analyze, I merge the two lists and the word frequencies used in the dataframe."
   ]
  },
  {
   "cell_type": "code",
   "execution_count": 17,
   "metadata": {},
   "outputs": [],
   "source": [
    "de=pd.DataFrame(list(fdist_democrat.items()), columns = [\"Word\",\"FrequencyDemocrat\"])\n",
    "re=pd.DataFrame(list(fdist_republican.items()), columns = [\"Word\",\"FrequencyRepublican\"])\n",
    "new=pd.merge(de,re,on='Word')"
   ]
  },
  {
   "cell_type": "code",
   "execution_count": 18,
   "metadata": {},
   "outputs": [
    {
     "data": {
      "text/html": [
       "<div>\n",
       "<style scoped>\n",
       "    .dataframe tbody tr th:only-of-type {\n",
       "        vertical-align: middle;\n",
       "    }\n",
       "\n",
       "    .dataframe tbody tr th {\n",
       "        vertical-align: top;\n",
       "    }\n",
       "\n",
       "    .dataframe thead th {\n",
       "        text-align: right;\n",
       "    }\n",
       "</style>\n",
       "<table border=\"1\" class=\"dataframe\">\n",
       "  <thead>\n",
       "    <tr style=\"text-align: right;\">\n",
       "      <th></th>\n",
       "      <th>Word</th>\n",
       "      <th>FrequencyDemocrat</th>\n",
       "      <th>FrequencyRepublican</th>\n",
       "    </tr>\n",
       "  </thead>\n",
       "  <tbody>\n",
       "    <tr>\n",
       "      <th>0</th>\n",
       "      <td>today</td>\n",
       "      <td>3850</td>\n",
       "      <td>4883</td>\n",
       "    </tr>\n",
       "    <tr>\n",
       "      <th>1</th>\n",
       "      <td>senate</td>\n",
       "      <td>368</td>\n",
       "      <td>533</td>\n",
       "    </tr>\n",
       "    <tr>\n",
       "      <th>2</th>\n",
       "      <td>dems</td>\n",
       "      <td>136</td>\n",
       "      <td>61</td>\n",
       "    </tr>\n",
       "    <tr>\n",
       "      <th>3</th>\n",
       "      <td>vote</td>\n",
       "      <td>741</td>\n",
       "      <td>722</td>\n",
       "    </tr>\n",
       "    <tr>\n",
       "      <th>4</th>\n",
       "      <td>proud</td>\n",
       "      <td>1303</td>\n",
       "      <td>923</td>\n",
       "    </tr>\n",
       "    <tr>\n",
       "      <th>5</th>\n",
       "      <td>support</td>\n",
       "      <td>1108</td>\n",
       "      <td>1166</td>\n",
       "    </tr>\n",
       "    <tr>\n",
       "      <th>6</th>\n",
       "      <td>similar</td>\n",
       "      <td>34</td>\n",
       "      <td>15</td>\n",
       "    </tr>\n",
       "    <tr>\n",
       "      <th>7</th>\n",
       "      <td>netneutrality</td>\n",
       "      <td>287</td>\n",
       "      <td>4</td>\n",
       "    </tr>\n",
       "    <tr>\n",
       "      <th>8</th>\n",
       "      <td>legislation</td>\n",
       "      <td>492</td>\n",
       "      <td>689</td>\n",
       "    </tr>\n",
       "    <tr>\n",
       "      <th>9</th>\n",
       "      <td>house</td>\n",
       "      <td>1512</td>\n",
       "      <td>2382</td>\n",
       "    </tr>\n",
       "  </tbody>\n",
       "</table>\n",
       "</div>"
      ],
      "text/plain": [
       "            Word  FrequencyDemocrat  FrequencyRepublican\n",
       "0          today               3850                 4883\n",
       "1         senate                368                  533\n",
       "2           dems                136                   61\n",
       "3           vote                741                  722\n",
       "4          proud               1303                  923\n",
       "5        support               1108                 1166\n",
       "6        similar                 34                   15\n",
       "7  netneutrality                287                    4\n",
       "8    legislation                492                  689\n",
       "9          house               1512                 2382"
      ]
     },
     "execution_count": 18,
     "metadata": {},
     "output_type": "execute_result"
    }
   ],
   "source": [
    "new.head(10)"
   ]
  },
  {
   "cell_type": "markdown",
   "metadata": {},
   "source": [
    "We also categorized the word frequencies into 5 groups. \n",
    "\n",
    "- if a word is used less than 50, it is in the **very low** group.\n",
    "\n",
    "- If it's used between 50 and 150 times, it is in the **low ** group. \n",
    "\n",
    "- If it's used between 150 and 500 times, it is in the **medium ** group. \n",
    "\n",
    "- If it's used between 500 and 1500 times, it is in the **high** group. \n",
    "\n",
    "- If usage of a word is greater than 1500, it is in the **very high ** group.\n",
    "\n",
    "Also we added these new lists to new dataframe. \n"
   ]
  },
  {
   "cell_type": "code",
   "execution_count": 19,
   "metadata": {},
   "outputs": [],
   "source": [
    "democratclass=[] \n",
    "for each in new.FrequencyDemocrat:\n",
    "    if each<50:\n",
    "        democratclass.append(\"Very Low\")\n",
    "    elif 49<each<150:\n",
    "        democratclass.append(\"Low\")\n",
    "    elif 149<each<500:\n",
    "        democratclass.append(\"Medium\")\n",
    "    elif 499<each<1500:\n",
    "        democratclass.append(\"High\")\n",
    "    else:\n",
    "        democratclass.append(\"Very High\")\n",
    "        \n",
    "new[\"democratclass\"]=democratclass"
   ]
  },
  {
   "cell_type": "code",
   "execution_count": 20,
   "metadata": {},
   "outputs": [],
   "source": [
    "republicanclass=[] \n",
    "for each in new.FrequencyRepublican:\n",
    "    if each<50:\n",
    "        republicanclass.append(\"Very Low\")\n",
    "    elif 49<each<150:\n",
    "        republicanclass.append(\"Low\")\n",
    "    elif 149<each<500:\n",
    "        republicanclass.append(\"Medium\")\n",
    "    elif 499<each<1500:\n",
    "        republicanclass.append(\"High\")\n",
    "    else:\n",
    "        republicanclass.append(\"Very High\")\n",
    "        \n",
    "new[\"republicanclass\"]=republicanclass"
   ]
  },
  {
   "cell_type": "code",
   "execution_count": 21,
   "metadata": {},
   "outputs": [
    {
     "data": {
      "text/html": [
       "<div>\n",
       "<style scoped>\n",
       "    .dataframe tbody tr th:only-of-type {\n",
       "        vertical-align: middle;\n",
       "    }\n",
       "\n",
       "    .dataframe tbody tr th {\n",
       "        vertical-align: top;\n",
       "    }\n",
       "\n",
       "    .dataframe thead th {\n",
       "        text-align: right;\n",
       "    }\n",
       "</style>\n",
       "<table border=\"1\" class=\"dataframe\">\n",
       "  <thead>\n",
       "    <tr style=\"text-align: right;\">\n",
       "      <th></th>\n",
       "      <th>Word</th>\n",
       "      <th>FrequencyDemocrat</th>\n",
       "      <th>FrequencyRepublican</th>\n",
       "      <th>democratclass</th>\n",
       "      <th>republicanclass</th>\n",
       "    </tr>\n",
       "  </thead>\n",
       "  <tbody>\n",
       "    <tr>\n",
       "      <th>0</th>\n",
       "      <td>today</td>\n",
       "      <td>3850</td>\n",
       "      <td>4883</td>\n",
       "      <td>Very High</td>\n",
       "      <td>Very High</td>\n",
       "    </tr>\n",
       "    <tr>\n",
       "      <th>1</th>\n",
       "      <td>senate</td>\n",
       "      <td>368</td>\n",
       "      <td>533</td>\n",
       "      <td>Medium</td>\n",
       "      <td>High</td>\n",
       "    </tr>\n",
       "    <tr>\n",
       "      <th>2</th>\n",
       "      <td>dems</td>\n",
       "      <td>136</td>\n",
       "      <td>61</td>\n",
       "      <td>Low</td>\n",
       "      <td>Low</td>\n",
       "    </tr>\n",
       "    <tr>\n",
       "      <th>3</th>\n",
       "      <td>vote</td>\n",
       "      <td>741</td>\n",
       "      <td>722</td>\n",
       "      <td>High</td>\n",
       "      <td>High</td>\n",
       "    </tr>\n",
       "    <tr>\n",
       "      <th>4</th>\n",
       "      <td>proud</td>\n",
       "      <td>1303</td>\n",
       "      <td>923</td>\n",
       "      <td>High</td>\n",
       "      <td>High</td>\n",
       "    </tr>\n",
       "  </tbody>\n",
       "</table>\n",
       "</div>"
      ],
      "text/plain": [
       "     Word  FrequencyDemocrat       ...        democratclass republicanclass\n",
       "0   today               3850       ...            Very High       Very High\n",
       "1  senate                368       ...               Medium            High\n",
       "2    dems                136       ...                  Low             Low\n",
       "3    vote                741       ...                 High            High\n",
       "4   proud               1303       ...                 High            High\n",
       "\n",
       "[5 rows x 5 columns]"
      ]
     },
     "execution_count": 21,
     "metadata": {},
     "output_type": "execute_result"
    }
   ],
   "source": [
    "new.head()"
   ]
  },
  {
   "cell_type": "markdown",
   "metadata": {},
   "source": [
    "<a id=\"3\"></a> <br>\n",
    "## 3- Dispersion Plots"
   ]
  },
  {
   "cell_type": "markdown",
   "metadata": {},
   "source": [
    "We have selected some words in the data set and we looked at the usage distribution for both parties. \n",
    "\n",
    "These words are **\"vote\"**, **\"democracy\"**, **\"freedom\"**, **\"america\"**, **\"american\"**, **\"tax\"**, **\"trump\"** and **\"clinton\"**. \n",
    "\n",
    "Also, the other words can be chosen. "
   ]
  },
  {
   "cell_type": "code",
   "execution_count": 25,
   "metadata": {},
   "outputs": [],
   "source": [
    "from nltk.text import Text  \n",
    "democrat_tweet=Text(democrat_tweets)\n",
    "republican_tweet=Text(republican_tweets)"
   ]
  },
  {
   "cell_type": "markdown",
   "metadata": {},
   "source": [
    "**Democrat Tweets Plot**"
   ]
  },
  {
   "cell_type": "code",
   "execution_count": 26,
   "metadata": {},
   "outputs": [
    {
     "data": {
      "image/png": "[encoded data removed]",
      "text/plain": [
       "<Figure size 720x360 with 1 Axes>"
      ]
     },
     "metadata": {
      "needs_background": "light"
     },
     "output_type": "display_data"
    }
   ],
   "source": [
    "plt.subplots(figsize=(10,5))\n",
    "democrat_tweet.dispersion_plot([\"vote\",\"democracy\",\"freedom\",\"america\",\"american\",\"tax\",\"trump\",\"clinton\"])"
   ]
  },
  {
   "cell_type": "markdown",
   "metadata": {},
   "source": [
    "**Republican Tweets Plot**"
   ]
  },
  {
   "cell_type": "code",
   "execution_count": 27,
   "metadata": {},
   "outputs": [
    {
     "data": {
      "image/png": "[encoded data removed]",
      "text/plain": [
       "<Figure size 720x360 with 1 Axes>"
      ]
     },
     "metadata": {
      "needs_background": "light"
     },
     "output_type": "display_data"
    }
   ],
   "source": [
    "plt.subplots(figsize=(10,5))\n",
    "republican_tweet.dispersion_plot([\"vote\",\"democracy\",\"freedom\",\"america\",\"american\",\"tax\",\"trump\",\"clinton\"])"
   ]
  },
  {
   "cell_type": "markdown",
   "metadata": {},
   "source": [
    "<a id=\"4\"></a> <br>\n",
    "## 4- Sentiment Analysis"
   ]
  },
  {
   "cell_type": "markdown",
   "metadata": {},
   "source": [
    "\n",
    "The **polarity** score is a float within the range [-1.0, 1.0]. And it represents emotions expressed in a sentence. \n",
    "1 means positive statement and -1 means a negative statement.\n",
    "\n",
    "The **subjectivity ** is a float within the range [0.0, 1.0] where 0.0 is very objective and 1.0 is very subjective.  And it refers to personal opinion, emotion or judgment. "
   ]
  },
  {
   "cell_type": "code",
   "execution_count": 28,
   "metadata": {},
   "outputs": [],
   "source": [
    "from textblob import TextBlob\n",
    "democratblob=TextBlob(str(democrat_tweets))\n",
    "republicanblob=TextBlob(str(republican_tweets))"
   ]
  },
  {
   "cell_type": "markdown",
   "metadata": {},
   "source": [
    "Using TextBlob, you can see polarity and subjectivity scores both parties. "
   ]
  },
  {
   "cell_type": "code",
   "execution_count": 29,
   "metadata": {},
   "outputs": [
    {
     "data": {
      "text/plain": [
       "Sentiment(polarity=0.16536069955855845, subjectivity=0.4648999095113135)"
      ]
     },
     "execution_count": 29,
     "metadata": {},
     "output_type": "execute_result"
    }
   ],
   "source": [
    "democratblob.sentiment"
   ]
  },
  {
   "cell_type": "code",
   "execution_count": 30,
   "metadata": {},
   "outputs": [
    {
     "data": {
      "text/plain": [
       "Sentiment(polarity=0.19836825482009132, subjectivity=0.4590716830328091)"
      ]
     },
     "execution_count": 30,
     "metadata": {},
     "output_type": "execute_result"
    }
   ],
   "source": [
    "republicanblob.sentiment"
   ]
  }
 ],
 "metadata": {
  "kernelspec": {
   "display_name": "Python 3",
   "language": "python",
   "name": "python3"
  },
  "language_info": {
   "codemirror_mode": {
    "name": "ipython",
    "version": 3
   },
   "file_extension": ".py",
   "mimetype": "text/x-python",
   "name": "python",
   "nbconvert_exporter": "python",
   "pygments_lexer": "ipython3",
   "version": "3.8.3"
  }
 },
 "nbformat": 4,
 "nbformat_minor": 1
}
