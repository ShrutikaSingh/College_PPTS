{
 "cells": [
  {
   "cell_type": "code",
   "execution_count": 4,
   "metadata": {},
   "outputs": [
    {
     "ename": "SyntaxError",
     "evalue": "invalid syntax (<ipython-input-4-2da07e6dafb1>, line 1)",
     "output_type": "error",
     "traceback": [
      "\u001b[0;36m  File \u001b[0;32m\"<ipython-input-4-2da07e6dafb1>\"\u001b[0;36m, line \u001b[0;32m1\u001b[0m\n\u001b[0;31m    Name Shrutika\u001b[0m\n\u001b[0m                ^\u001b[0m\n\u001b[0;31mSyntaxError\u001b[0m\u001b[0;31m:\u001b[0m invalid syntax\n"
     ]
    }
   ],
   "source": [
    "Name Shrutika\n",
    "ROLL PA 29\n",
    "BDA LAB 3 "
   ]
  },
  {
   "cell_type": "code",
   "execution_count": 15,
   "metadata": {},
   "outputs": [],
   "source": [
    "#import mongo client to connect\n",
    "from pymongo import MongoClient\n",
    "#Creating instance of mongoclient connection string\n",
    "client=MongoClient()"
   ]
  },
  {
   "cell_type": "code",
   "execution_count": 16,
   "metadata": {},
   "outputs": [],
   "source": [
    "client=MongoClient('localhost',27017)"
   ]
  },
  {
   "cell_type": "code",
   "execution_count": 17,
   "metadata": {},
   "outputs": [],
   "source": [
    "db=client.Employee2020"
   ]
  },
  {
   "cell_type": "code",
   "execution_count": 18,
   "metadata": {},
   "outputs": [
    {
     "name": "stdout",
     "output_type": "stream",
     "text": [
      "Multiple posts: [ObjectId('5f4dd88bf4e46dcb745f5455'), ObjectId('5f4dd88bf4e46dcb745f5456'), ObjectId('5f4dd88bf4e46dcb745f5457'), ObjectId('5f4dd88bf4e46dcb745f5458')]\n"
     ]
    }
   ],
   "source": [
    "#create collections and insert documents\n",
    "emp=db.emp\n",
    "emp_1={\n",
    "    'eno':1,\n",
    "    'name':'Manish Sharma',\n",
    "    'salary':10000,\n",
    "    'position':'Salesman'\n",
    "}\n",
    "emp_2={\n",
    "    'eno':2,\n",
    "    'name':'Sandeep Singh',\n",
    "    'salary':50000,\n",
    "    'position':'Managing Director'\n",
    "}\n",
    "emp_3={\n",
    "    'eno':3,\n",
    "    'name':'Shilpa Khanna',\n",
    "    'salary':25000,\n",
    "    'position':'Senior Executive Officer'\n",
    "}\n",
    "emp_4={\n",
    "    'eno':4,\n",
    "    'name':'Mahesh Kumar',\n",
    "    'salary':5000,\n",
    "    'position':'Clerk'\n",
    "}\n",
    "new_result=emp.insert_many([emp_1,emp_2,emp_3,emp_4])\n",
    "print('Multiple posts: {0}'.format(new_result.inserted_ids))"
   ]
  },
  {
   "cell_type": "code",
   "execution_count": 19,
   "metadata": {},
   "outputs": [
    {
     "name": "stdout",
     "output_type": "stream",
     "text": [
      "{'_id': ObjectId('5f4dd88bf4e46dcb745f5455'), 'eno': 1, 'name': 'Manish Sharma', 'salary': 10000, 'position': 'Salesman'}\n"
     ]
    }
   ],
   "source": [
    "#Finding one document\n",
    "res_1=emp.find_one({'eno':1})\n",
    "print(res_1)"
   ]
  },
  {
   "cell_type": "code",
   "execution_count": 20,
   "metadata": {},
   "outputs": [
    {
     "data": {
      "text/plain": [
       "4"
      ]
     },
     "execution_count": 20,
     "metadata": {},
     "output_type": "execute_result"
    }
   ],
   "source": [
    "#Counting no. of documents\n",
    "emp.count_documents({})"
   ]
  },
  {
   "cell_type": "code",
   "execution_count": 21,
   "metadata": {},
   "outputs": [
    {
     "data": {
      "text/plain": [
       "<pymongo.results.DeleteResult at 0x1f450480308>"
      ]
     },
     "execution_count": 21,
     "metadata": {},
     "output_type": "execute_result"
    }
   ],
   "source": [
    "#Deleting one document\n",
    "emp.delete_one({'name':'Mahesh Kumar'})"
   ]
  },
  {
   "cell_type": "code",
   "execution_count": 8,
   "metadata": {},
   "outputs": [
    {
     "data": {
      "text/plain": [
       "3"
      ]
     },
     "execution_count": 8,
     "metadata": {},
     "output_type": "execute_result"
    }
   ],
   "source": [
    "#Counting no. of documents\n",
    "emp.count_documents({})"
   ]
  },
  {
   "cell_type": "code",
   "execution_count": 22,
   "metadata": {},
   "outputs": [
    {
     "name": "stderr",
     "output_type": "stream",
     "text": [
      "C:\\Users\\Arpit\\anaconda3\\lib\\site-packages\\ipykernel_launcher.py:1: DeprecationWarning: update is deprecated. Use replace_one, update_one or update_many instead.\n",
      "  \"\"\"Entry point for launching an IPython kernel.\n"
     ]
    },
    {
     "data": {
      "text/plain": [
       "{'n': 1, 'nModified': 1, 'ok': 1.0, 'updatedExisting': True}"
      ]
     },
     "execution_count": 22,
     "metadata": {},
     "output_type": "execute_result"
    }
   ],
   "source": [
    "#Updating single document\n",
    "emp.update({'name':'Shilpa Khanna'},{'$set':{'hobby':'Dancing'}})"
   ]
  },
  {
   "cell_type": "code",
   "execution_count": 23,
   "metadata": {},
   "outputs": [
    {
     "name": "stdout",
     "output_type": "stream",
     "text": [
      "{'_id': ObjectId('5f4dd88bf4e46dcb745f5455'), 'eno': 1, 'name': 'Manish Sharma', 'salary': 10000, 'position': 'Salesman'}\n",
      "{'_id': ObjectId('5f4dd88bf4e46dcb745f5456'), 'eno': 2, 'name': 'Sandeep Singh', 'salary': 50000, 'position': 'Managing Director'}\n",
      "{'_id': ObjectId('5f4dd88bf4e46dcb745f5457'), 'eno': 3, 'name': 'Shilpa Khanna', 'salary': 25000, 'position': 'Senior Executive Officer', 'hobby': 'Dancing'}\n"
     ]
    }
   ],
   "source": [
    "#Getting all records\n",
    "for emp1 in emp.find():\n",
    "    print(emp1)"
   ]
  },
  {
   "cell_type": "code",
   "execution_count": 24,
   "metadata": {},
   "outputs": [
    {
     "name": "stdout",
     "output_type": "stream",
     "text": [
      "{'_id': ObjectId('5f4dd88bf4e46dcb745f5456'), 'eno': 2, 'name': 'Sandeep Singh', 'salary': 50000, 'position': 'Managing Director'}\n",
      "{'_id': ObjectId('5f4dd88bf4e46dcb745f5457'), 'eno': 3, 'name': 'Shilpa Khanna', 'salary': 25000, 'position': 'Senior Executive Officer', 'hobby': 'Dancing'}\n"
     ]
    }
   ],
   "source": [
    "#Getting some records by passing a query with a condition\n",
    "query={'salary':{'$gt':20000}}\n",
    "doc=emp.find(query)\n",
    "for i in doc:\n",
    "    print(i)"
   ]
  },
  {
   "cell_type": "code",
   "execution_count": 25,
   "metadata": {},
   "outputs": [
    {
     "name": "stdout",
     "output_type": "stream",
     "text": [
      "{'_id': ObjectId('5f4dd88bf4e46dcb745f5455'), 'eno': 1, 'name': 'Manish Sharma', 'salary': 10000, 'position': 'Salesman'}\n",
      "{'_id': ObjectId('5f4dd88bf4e46dcb745f5456'), 'eno': 2, 'name': 'Sandeep Singh', 'salary': 50000, 'position': 'Managing Director'}\n",
      "{'_id': ObjectId('5f4dd88bf4e46dcb745f5457'), 'eno': 3, 'name': 'Shilpa Khanna', 'salary': 25000, 'position': 'Senior Executive Officer', 'hobby': 'Dancing'}\n"
     ]
    }
   ],
   "source": [
    "#Sorting on basis of name in ascending order\n",
    "mydoc=emp.find().sort('name') #Ascending\n",
    "for i in mydoc:\n",
    "    print(i)"
   ]
  },
  {
   "cell_type": "code",
   "execution_count": 26,
   "metadata": {},
   "outputs": [
    {
     "name": "stdout",
     "output_type": "stream",
     "text": [
      "{'_id': ObjectId('5f4dd88bf4e46dcb745f5457'), 'eno': 3, 'name': 'Shilpa Khanna', 'salary': 25000, 'position': 'Senior Executive Officer', 'hobby': 'Dancing'}\n",
      "{'_id': ObjectId('5f4dd88bf4e46dcb745f5456'), 'eno': 2, 'name': 'Sandeep Singh', 'salary': 50000, 'position': 'Managing Director'}\n",
      "{'_id': ObjectId('5f4dd88bf4e46dcb745f5455'), 'eno': 1, 'name': 'Manish Sharma', 'salary': 10000, 'position': 'Salesman'}\n"
     ]
    }
   ],
   "source": [
    "#Sorting on basis of name in descending order\n",
    "mydoc=emp.find().sort('name',-1) #Descending\n",
    "for i in mydoc:\n",
    "    print(i)"
   ]
  },
  {
   "cell_type": "code",
   "execution_count": 27,
   "metadata": {},
   "outputs": [
    {
     "name": "stdout",
     "output_type": "stream",
     "text": [
      "2  documents deleted.\n"
     ]
    }
   ],
   "source": [
    "#Deleting many documents at a time\n",
    "query={'name':{'$regex':'^S'}}\n",
    "x=emp.delete_many(query)\n",
    "print(x.deleted_count,\" documents deleted.\")"
   ]
  },
  {
   "cell_type": "code",
   "execution_count": 28,
   "metadata": {},
   "outputs": [
    {
     "name": "stdout",
     "output_type": "stream",
     "text": [
      "Multiple posts: [ObjectId('5f4dd94cf4e46dcb745f5459'), ObjectId('5f4dd94cf4e46dcb745f545a'), ObjectId('5f4dd94cf4e46dcb745f545b')]\n"
     ]
    }
   ],
   "source": [
    "#Inserting multiple documents again\n",
    "emp_2={\n",
    "    'eno':2,\n",
    "    'name':'Sandeep Singh',\n",
    "    'salary':50000,\n",
    "    'position':'Managing Director'\n",
    "}\n",
    "emp_3={\n",
    "    'eno':3,\n",
    "    'name':'Shilpa Khanna',\n",
    "    'salary':25000,\n",
    "    'position':'Senior Executive Officer'\n",
    "}\n",
    "emp_4={\n",
    "    'eno':4,\n",
    "    'name':'Mahesh Kumar',\n",
    "    'salary':5000,\n",
    "    'position':'Clerk'\n",
    "}\n",
    "new_result=emp.insert_many([emp_2,emp_3,emp_4])\n",
    "print('Multiple posts: {0}'.format(new_result.inserted_ids))"
   ]
  },
  {
   "cell_type": "code",
   "execution_count": 29,
   "metadata": {},
   "outputs": [
    {
     "name": "stdout",
     "output_type": "stream",
     "text": [
      "2 documents updated.\n"
     ]
    }
   ],
   "source": [
    "#Updating many documents at a time\n",
    "myquery = { 'name': { '$regex': '^S' } }\n",
    "newvalues = { \"$set\": { 'hobby': 'Dancing' } }\n",
    "\n",
    "x = emp.update_many(myquery, newvalues)\n",
    "print(x.modified_count, \"documents updated.\")"
   ]
  },
  {
   "cell_type": "code",
   "execution_count": 30,
   "metadata": {},
   "outputs": [
    {
     "name": "stdout",
     "output_type": "stream",
     "text": [
      "{'_id': ObjectId('5f4dd88bf4e46dcb745f5455'), 'eno': 1, 'name': 'Manish Sharma', 'salary': 10000, 'position': 'Salesman'}\n",
      "{'_id': ObjectId('5f4dd94cf4e46dcb745f5459'), 'eno': 2, 'name': 'Sandeep Singh', 'salary': 50000, 'position': 'Managing Director', 'hobby': 'Dancing'}\n",
      "{'_id': ObjectId('5f4dd94cf4e46dcb745f545a'), 'eno': 3, 'name': 'Shilpa Khanna', 'salary': 25000, 'position': 'Senior Executive Officer', 'hobby': 'Dancing'}\n",
      "{'_id': ObjectId('5f4dd94cf4e46dcb745f545b'), 'eno': 4, 'name': 'Mahesh Kumar', 'salary': 5000, 'position': 'Clerk'}\n"
     ]
    }
   ],
   "source": [
    "#Finding all the records\n",
    "for emp1 in emp.find():\n",
    "    print(emp1)"
   ]
  },
  {
   "cell_type": "code",
   "execution_count": 31,
   "metadata": {},
   "outputs": [
    {
     "name": "stdout",
     "output_type": "stream",
     "text": [
      "{'_id': ObjectId('5f4dd88bf4e46dcb745f5455'), 'eno': 1, 'name': 'Manish Sharma', 'salary': 10000, 'position': 'Salesman'}\n",
      "{'_id': ObjectId('5f4dd94cf4e46dcb745f5459'), 'eno': 2, 'name': 'Sandeep Singh', 'salary': 50000, 'position': 'Managing Director', 'hobby': 'Dancing'}\n"
     ]
    }
   ],
   "source": [
    "#Finding the records upto a certain limit\n",
    "myresult = emp.find().limit(2)\n",
    "for x in myresult:\n",
    "  print(x)"
   ]
  },
  {
   "cell_type": "code",
   "execution_count": null,
   "metadata": {},
   "outputs": [],
   "source": []
  }
 ],
 "metadata": {
  "kernelspec": {
   "display_name": "Python 3",
   "language": "python",
   "name": "python3"
  },
  "language_info": {
   "codemirror_mode": {
    "name": "ipython",
    "version": 3
   },
   "file_extension": ".py",
   "mimetype": "text/x-python",
   "name": "python",
   "nbconvert_exporter": "python",
   "pygments_lexer": "ipython3",
   "version": "3.7.8"
  }
 },
 "nbformat": 4,
 "nbformat_minor": 4
}
